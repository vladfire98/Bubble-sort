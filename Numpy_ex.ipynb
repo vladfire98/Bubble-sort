{
  "nbformat": 4,
  "nbformat_minor": 0,
  "metadata": {
    "colab": {
      "name": "Numpy_ex.ipynb",
      "provenance": [],
      "collapsed_sections": []
    },
    "kernelspec": {
      "name": "python3",
      "display_name": "Python 3"
    },
    "language_info": {
      "name": "python"
    }
  },
  "cells": [
    {
      "cell_type": "markdown",
      "metadata": {
        "id": "mXkGaRkXdQSe"
      },
      "source": [
        "**Создание массива**"
      ]
    },
    {
      "cell_type": "code",
      "metadata": {
        "id": "yE6TK-wGYS3p"
      },
      "source": [
        "import numpy as np\n",
        "\n",
        "A = np.array([[1, 2, 3], [4, 5, 6]])\n",
        "A"
      ],
      "execution_count": null,
      "outputs": []
    },
    {
      "cell_type": "code",
      "metadata": {
        "id": "2hCPMY_IYW3z"
      },
      "source": [
        "B = A.copy()\n",
        "B"
      ],
      "execution_count": null,
      "outputs": []
    },
    {
      "cell_type": "code",
      "metadata": {
        "id": "yV4nodp6YqNW"
      },
      "source": [
        "A = np.zeros((2, 3))\n",
        "A"
      ],
      "execution_count": null,
      "outputs": []
    },
    {
      "cell_type": "code",
      "metadata": {
        "id": "UFYvc_1lc4ih"
      },
      "source": [
        "B = np.ones((3, 2))\n",
        "B"
      ],
      "execution_count": null,
      "outputs": []
    },
    {
      "cell_type": "code",
      "metadata": {
        "id": "uEro7x_jc5TR"
      },
      "source": [
        "A = np.array([[1, 2, 3], [4, 5, 6]])\n",
        "B = np.zeros_like(A)\n",
        "B"
      ],
      "execution_count": null,
      "outputs": []
    },
    {
      "cell_type": "code",
      "metadata": {
        "id": "IMxii0YHc83s"
      },
      "source": [
        "A = np.array([[1, 2, 3], [4, 5, 6]])\n",
        "B = np.ones_like(A)\n",
        "B"
      ],
      "execution_count": null,
      "outputs": []
    },
    {
      "cell_type": "code",
      "metadata": {
        "id": "eJhJqOkSc9dD"
      },
      "source": [
        "A = np.eye(3)\n",
        "print(A)"
      ],
      "execution_count": null,
      "outputs": []
    },
    {
      "cell_type": "code",
      "metadata": {
        "id": "fvrQ-7KPdAi9"
      },
      "source": [
        "From = 2.5\n",
        "To = 7\n",
        "Step = 0.5\n",
        "A = np.arange(From, To, Step)\n",
        "A\n"
      ],
      "execution_count": null,
      "outputs": []
    },
    {
      "cell_type": "code",
      "metadata": {
        "id": "QQ3nuxAAc-wf"
      },
      "source": [
        "A = np.arange(5)\n",
        "A"
      ],
      "execution_count": null,
      "outputs": []
    },
    {
      "cell_type": "code",
      "metadata": {
        "id": "ELZnuUigdEq-"
      },
      "source": [
        "A = np.arange(10, 15)\n",
        "A"
      ],
      "execution_count": null,
      "outputs": []
    },
    {
      "cell_type": "code",
      "metadata": {
        "id": "PjysMEqydGwN"
      },
      "source": [
        "A = np.zeros((2, 3), 'int')\n",
        "A"
      ],
      "execution_count": null,
      "outputs": []
    },
    {
      "cell_type": "code",
      "metadata": {
        "id": "9BVJmxMkdINv"
      },
      "source": [
        "B = np.ones((3, 2), 'complex')\n",
        "B"
      ],
      "execution_count": null,
      "outputs": []
    },
    {
      "cell_type": "code",
      "metadata": {
        "id": "Qj1i52POdJg8"
      },
      "source": [
        "A = np.ones((3, 2))\n",
        "B = A.astype('str')\n",
        "B"
      ],
      "execution_count": null,
      "outputs": []
    },
    {
      "cell_type": "code",
      "metadata": {
        "id": "osN6NMPrdMT5"
      },
      "source": [
        "np.sctypes"
      ],
      "execution_count": null,
      "outputs": []
    },
    {
      "cell_type": "markdown",
      "metadata": {
        "id": "Fj_4MhjgdU3a"
      },
      "source": [
        "**Доступ к элементам, срезы**"
      ]
    },
    {
      "cell_type": "code",
      "metadata": {
        "id": "NVIVcFNfdM-V"
      },
      "source": [
        "A = np.array([[1, 2, 3], [4, 5, 6]])\n",
        "A[1, 1]"
      ],
      "execution_count": null,
      "outputs": []
    },
    {
      "cell_type": "code",
      "metadata": {
        "id": "hJCNVgOSdZxG"
      },
      "source": [
        "A = np.array([[1, 2, 3], [4, 5, 6]])\n",
        "A[1]"
      ],
      "execution_count": null,
      "outputs": []
    },
    {
      "cell_type": "code",
      "metadata": {
        "id": "yZ6xXsP5dbBt"
      },
      "source": [
        "A = np.array([[1, 2, 3], [4, 5, 6]])\n",
        "A[1][1]"
      ],
      "execution_count": null,
      "outputs": []
    },
    {
      "cell_type": "code",
      "metadata": {
        "id": "L8vrnEkndczD"
      },
      "source": [
        "A = np.array([[1, 2, 3], [4, 5, 6]])\n",
        "A[1, :]"
      ],
      "execution_count": null,
      "outputs": []
    },
    {
      "cell_type": "code",
      "metadata": {
        "id": "j9XAxygEdePx"
      },
      "source": [
        "A = np.array([[1, 2, 3], [4, 5, 6]])\n",
        "A[:, 1]"
      ],
      "execution_count": null,
      "outputs": []
    },
    {
      "cell_type": "code",
      "metadata": {
        "id": "aWOOWC3Hdfa-"
      },
      "source": [
        "A = np.arange(5)\n",
        "print(A)\n",
        "A[-1]"
      ],
      "execution_count": null,
      "outputs": []
    },
    {
      "cell_type": "code",
      "metadata": {
        "id": "pf76-MF5dg0Q"
      },
      "source": [
        "A = np.arange(5)\n",
        "print(A)\n",
        "A[[0, 1, -1]]"
      ],
      "execution_count": null,
      "outputs": []
    },
    {
      "cell_type": "code",
      "metadata": {
        "id": "ZkwPo2yudiBX"
      },
      "source": [
        "A = np.arange(5)\n",
        "print(A)\n",
        "A[0:4:2]"
      ],
      "execution_count": null,
      "outputs": []
    },
    {
      "cell_type": "code",
      "metadata": {
        "id": "57tlqQqDdjZL"
      },
      "source": [
        "A = np.arange(5)\n",
        "print(A)\n",
        "A[0:4]"
      ],
      "execution_count": null,
      "outputs": []
    },
    {
      "cell_type": "code",
      "metadata": {
        "id": "nuiNxvtbdlR2"
      },
      "source": [
        "A = np.arange(5)\n",
        "print(A)\n",
        "A[:4]"
      ],
      "execution_count": null,
      "outputs": []
    },
    {
      "cell_type": "code",
      "metadata": {
        "id": "X95webTqdnNI"
      },
      "source": [
        "A = np.arange(5)\n",
        "print(A)\n",
        "A[-3:]"
      ],
      "execution_count": null,
      "outputs": []
    },
    {
      "cell_type": "code",
      "metadata": {
        "id": "zM-yfsFIdonQ"
      },
      "source": [
        "A = np.array([[1, 2, 3], [4, 5, 6]])\n",
        "B = A[:, ::-1]\n",
        "print(\"A\", A)\n",
        "print(\"B\", B)"
      ],
      "execution_count": null,
      "outputs": []
    },
    {
      "cell_type": "code",
      "metadata": {
        "id": "jC2OYeCbdqMB"
      },
      "source": [
        "print(A)\n",
        "B[0, 0] = 0\n",
        "print(A)"
      ],
      "execution_count": null,
      "outputs": []
    },
    {
      "cell_type": "code",
      "metadata": {
        "id": "sjNqIwyIdsu5"
      },
      "source": [
        "A = np.array([[1, 2, 3], [4, 5, 6]])\n",
        "B = A.copy()[:, ::-1]\n",
        "print(\"A\", A)\n",
        "print(\"B\", B)\n",
        "B[0, 0] = 0\n",
        "print(\"A\", A)\n",
        "print(\"B\", B)"
      ],
      "execution_count": null,
      "outputs": []
    },
    {
      "cell_type": "code",
      "metadata": {
        "id": "hzmHd58Bdws-"
      },
      "source": [
        "A = np.array([[1, 2, 3], [4, 5, 6]])\n",
        "I = np.array([[False, False, True], [ True, False, True]])\n",
        "A[I]"
      ],
      "execution_count": null,
      "outputs": []
    },
    {
      "cell_type": "code",
      "metadata": {
        "id": "AbSb9NufdyI2"
      },
      "source": [
        "A = np.array([[1, 2, 3], [4, 5, 6]])\n",
        "I = np.array([[False, False, True], [ True, False, True]])\n",
        "A[I] = -1*A[~I]\n",
        "print(A)"
      ],
      "execution_count": null,
      "outputs": []
    },
    {
      "cell_type": "code",
      "metadata": {
        "id": "uHIOwdcwdzfW"
      },
      "source": [
        "A = np.array([[1, 2, 3], [4, 5, 6]])\n",
        "\n",
        "I1 = np.array([[False, False, True], [True, False, True]])\n",
        "I2 = np.array([[False, True, False], [False, False, True]])\n",
        "\n",
        "B = A.copy()\n",
        "C = A.copy()\n",
        "D = A.copy()\n",
        "\n",
        "B[np.logical_and(I1, I2)] = 0\n",
        "C[np.logical_or(I1, I2)] = 0\n",
        "D[np.logical_not(I1)] = 0\n",
        "\n",
        "print('B\\n', B)\n",
        "print('\\nC\\n', C)\n",
        "print('\\nD\\n', D)"
      ],
      "execution_count": null,
      "outputs": []
    },
    {
      "cell_type": "code",
      "metadata": {
        "id": "kyaJNQhcd1-m"
      },
      "source": [
        "A = np.array([[1, 2, 3], [4, 5, 6]])\n",
        "\n",
        "I1 = np.array([[False, False, True], [True, False, True]])\n",
        "I2 = np.array([[False, True, False], [False, False, True]])\n",
        "\n",
        "A[I1 & (I1 | ~ I2)] = 0\n",
        "\n",
        "print(A)"
      ],
      "execution_count": null,
      "outputs": []
    },
    {
      "cell_type": "code",
      "metadata": {
        "id": "ACcNertfd4Aq"
      },
      "source": [
        "A = np.array([[1, 2, 3], [4, 5, 6]])\n",
        "print('A before\\n', A)\n",
        "\n",
        "I = A > 3\n",
        "print('I\\n', I)\n",
        "\n",
        "J = np.logical_or(A < 2, A > 4)\n",
        "A[J] = 0\n",
        "print('A after\\n', A)\n",
        "print(J)"
      ],
      "execution_count": null,
      "outputs": []
    },
    {
      "cell_type": "markdown",
      "metadata": {
        "id": "9CjNYNuUd8cH"
      },
      "source": [
        "**Форма массива и ее изменение**"
      ]
    },
    {
      "cell_type": "code",
      "metadata": {
        "id": "XB41lwM7d7Dq"
      },
      "source": [
        "A = np.arange(24)\n",
        "B = A.reshape(4, 6)\n",
        "C = A.reshape(4, 3, 2)\n",
        "print('A\\n', A)\n",
        "print('B\\n', B)\n",
        "print('C\\n', C)\n"
      ],
      "execution_count": null,
      "outputs": []
    },
    {
      "cell_type": "code",
      "metadata": {
        "id": "HJgn5rm4eAsI"
      },
      "source": [
        "A = np.arange(24)\n",
        "C = A.reshape(4, 3, 2)\n",
        "\n",
        "print(A.ndim, A.shape, len(A.shape), A.size)\n",
        "print(C.ndim, C.shape, len(C.shape), C.size)"
      ],
      "execution_count": null,
      "outputs": []
    },
    {
      "cell_type": "code",
      "metadata": {
        "id": "7xHIBHCweC3f"
      },
      "source": [
        "A = np.array([[1, 2, 3], [4, 5, 6]])\n",
        "A.ravel()"
      ],
      "execution_count": null,
      "outputs": []
    },
    {
      "cell_type": "code",
      "metadata": {
        "id": "Ju0mL0iyeEYJ"
      },
      "source": [
        "A = np.array([[1, 2, 3], [4, 5, 6]])\n",
        "A.reshape(3, 2)"
      ],
      "execution_count": null,
      "outputs": []
    },
    {
      "cell_type": "code",
      "metadata": {
        "id": "1g8cmEWBeGSB"
      },
      "source": [
        "A = np.array([[1, 2, 3], [4, 5, 6]])\n",
        "A.reshape(3, 3)"
      ],
      "execution_count": null,
      "outputs": []
    },
    {
      "cell_type": "code",
      "metadata": {
        "id": "9KOQvwgYeJgy"
      },
      "source": [
        "A = np.arange(24)\n",
        "B = A.reshape(1, 1, 1, 1, 1, 1 , -1)\n",
        "C = A.reshape(4, 2, -1)\n",
        "\n",
        "print(A)\n",
        "print(B[0,0,0,0,0,0, 10])\n",
        "print(C)"
      ],
      "execution_count": null,
      "outputs": []
    },
    {
      "cell_type": "code",
      "metadata": {
        "id": "29hOl_40eLqg"
      },
      "source": [
        "A = np.array([[1, 2, 3], [4, 5, 6]])\n",
        "B = A.reshape(-1)\n",
        "print(B.shape)"
      ],
      "execution_count": null,
      "outputs": []
    },
    {
      "cell_type": "markdown",
      "metadata": {
        "id": "UI2HMxedjJW_"
      },
      "source": [
        "**Перестановка осей и траспонирование**"
      ]
    },
    {
      "cell_type": "code",
      "metadata": {
        "id": "YUWiopHTeNB_"
      },
      "source": [
        "A = np.array([[1, 2, 3], [4, 5, 6]])\n",
        "print('A\\n', A)\n",
        "print('\\nA data\\n', A.ravel())\n",
        "\n",
        "B = A.copy().T\n",
        "print('\\nB\\n', B)\n",
        "print('\\nB data\\n', B.ravel())\n",
        "B[0, 0] = 0\n",
        "print('A\\n', A)\n",
        "print('B\\n', B)\n"
      ],
      "execution_count": null,
      "outputs": []
    },
    {
      "cell_type": "markdown",
      "metadata": {
        "id": "VjZsZvNpmrD9"
      },
      "source": [
        "**Объединение массивов**"
      ]
    },
    {
      "cell_type": "code",
      "metadata": {
        "id": "cftOxVj-f0Mj"
      },
      "source": [
        "A = np.array([[1, 2, 3, 4], [5, 6, 7, 8]])\n",
        "B = A[::-1]\n",
        "C = A[:, ::-1]\n",
        "E = A[::-1, ::-1]\n",
        "F = A.ravel()[::-1].reshape(2, -1)\n",
        "\n",
        "D = np.stack((A, B, C, E, F))\n",
        "print(D.shape)\n",
        "D"
      ],
      "execution_count": null,
      "outputs": []
    },
    {
      "cell_type": "code",
      "metadata": {
        "id": "BsArG0b6mvkN"
      },
      "source": [
        "A = np.ones((2, 3, 4))\n",
        "B = np.zeros((2, 3, 4))\n",
        "\n",
        "C = np.concatenate((A, B), 0)\n",
        "print(A.shape)\n",
        "print(A)\n",
        "print(B.shape)\n",
        "print(B)\n",
        "print(C.shape)\n",
        "print(C)"
      ],
      "execution_count": null,
      "outputs": []
    },
    {
      "cell_type": "code",
      "metadata": {
        "id": "3l0ejVtjmxZx"
      },
      "source": [
        "A = np.array([[1, 2, 3, 4], [5, 6, 7, 8]])\n",
        "B = A[::-1]\n",
        "C = A[:, ::-1]\n",
        "\n",
        "D = np.stack((A, B, C))\n",
        "D[0, 0, 0] = 0\n",
        "print(A)"
      ],
      "execution_count": null,
      "outputs": []
    },
    {
      "cell_type": "markdown",
      "metadata": {
        "id": "PHikwcuFnUE5"
      },
      "source": [
        "**Клонирование данных**"
      ]
    },
    {
      "cell_type": "code",
      "metadata": {
        "id": "Gdlu7EoqnDUi"
      },
      "source": [
        "A = np.array([[1, 2, 3, 4], [5, 6, 7, 8]])\n",
        "print(np.repeat(A, 2))\n"
      ],
      "execution_count": null,
      "outputs": []
    },
    {
      "cell_type": "code",
      "metadata": {
        "id": "lnk58hsOnFLu"
      },
      "source": [
        "A = np.array([[1, 2, 3, 4], [5, 6, 7, 8]])\n",
        "B = np.repeat(A, 2).reshape(A.shape[0], A.shape[1], -1)\n",
        "print(B)"
      ],
      "execution_count": null,
      "outputs": []
    },
    {
      "cell_type": "code",
      "metadata": {
        "id": "HZlKV_KinHE7"
      },
      "source": [
        "A = np.array([[1, 2, 3, 4], [5, 6, 7, 8]])\n",
        "B = np.stack((A, A))\n",
        "print(B)"
      ],
      "execution_count": null,
      "outputs": []
    },
    {
      "cell_type": "code",
      "metadata": {
        "id": "Ueulyl-UnYH5"
      },
      "source": [
        "A = np.array([[1, 2, 3, 4], [5, 6, 7, 8]])\n",
        "\n",
        "\n",
        "B = np.transpose(np.stack((A, A)), (1, 0, 2))\n",
        "D = np.repeat(A, 2).reshape(A.shape[0], A.shape[1], -1)\n",
        "C = np.transpose(D, (2, 0, 1))\n",
        "\n",
        "print('B\\n', B)\n",
        "print('D\\n', D)\n",
        "print('\\nC\\n', C)"
      ],
      "execution_count": null,
      "outputs": []
    },
    {
      "cell_type": "markdown",
      "metadata": {
        "id": "dPJz0jnqnj6t"
      },
      "source": [
        "**Математические операции над элементами массива**"
      ]
    },
    {
      "cell_type": "code",
      "metadata": {
        "id": "pHknMX0_naIc"
      },
      "source": [
        "A = np.array([[-1., 2., 3.], [4., 5., 6.], [7., 8., 9.]])\n",
        "B = np.array([[1., -2., -3.], [7., 8., 9.], [4., 5., 6.], ])\n",
        "\n",
        "C = A + B\n",
        "D = A - B\n",
        "E = A * B\n",
        "F = A / B\n",
        "G = A ** B\n",
        "\n",
        "print('+\\n', C, '\\n')\n",
        "print('-\\n', D, '\\n')\n",
        "print('*\\n', E, '\\n')\n",
        "print('/\\n', F, '\\n')\n",
        "print('**\\n', G, '\\n')"
      ],
      "execution_count": null,
      "outputs": []
    },
    {
      "cell_type": "code",
      "metadata": {
        "id": "E8uXAx5enoFH"
      },
      "source": [
        "A = np.array([[-1., 2., 3.], [4., 5., 6.], [7., 8., 9.]])\n",
        "B = -2.\n",
        "\n",
        "C = A + B\n",
        "D = A - B\n",
        "E = A * B\n",
        "F = A / B\n",
        "G = A ** B\n",
        "\n",
        "print('+\\n', C, '\\n')\n",
        "print('-\\n', D, '\\n')\n",
        "print('*\\n', E, '\\n')\n",
        "print('/\\n', F, '\\n')\n",
        "print('**\\n', G, '\\n')\n"
      ],
      "execution_count": null,
      "outputs": []
    },
    {
      "cell_type": "code",
      "metadata": {
        "id": "HcBWKIHRnq4m"
      },
      "source": [
        "A = np.array([[1., 2., 3.], [4., 5., 6.], [7., 8., 9.]])\n",
        "B = np.array([-1.1, -1.2, -1.3])\n",
        "\n",
        "C = A + B\n",
        "D = A.T + B.T\n",
        "E = A * B\n",
        "F = A / B\n",
        "G = A ** B\n",
        "\n",
        "print('+\\n', C, '\\n')\n",
        "print('-\\n', D, '\\n')\n",
        "print('*\\n', E, '\\n')\n",
        "print('/\\n', F, '\\n')\n",
        "print('**\\n', G, '\\n')"
      ],
      "execution_count": null,
      "outputs": []
    },
    {
      "cell_type": "code",
      "metadata": {
        "id": "PCdxP1hDnsvr"
      },
      "source": [
        "A = np.array([[1., 2., 3.], [4., 5., 6.], [7., 8., 9.]])\n",
        "B = np.array([-1.1, -1.2, -1.3])\n",
        "\n",
        "C = (A.T + B).T\n",
        "D = (A.T - B).T\n",
        "E = (A.T * B).T\n",
        "F = (A.T / B).T\n",
        "G = (A.T ** B).T\n",
        "\n",
        "print('+\\n', C, '\\n')\n",
        "print('-\\n', D, '\\n')\n",
        "print('*\\n', E, '\\n')\n",
        "print('/\\n', F, '\\n')\n",
        "print('**\\n', G, '\\n')"
      ],
      "execution_count": null,
      "outputs": []
    },
    {
      "cell_type": "code",
      "metadata": {
        "id": "-JfL-w6PnvA-"
      },
      "source": [
        "A = np.array([[1., 2., 3.], [4., 5., 6.], [7., 8., 9.]])\n",
        "B = np.sin(A)\n",
        "C = np.log(B)\n",
        "D = np.max(B)\n",
        "\n",
        "print('A', A, '\\n')\n",
        "print('B', B, '\\n')\n",
        "print('C', C, '\\n')\n",
        "print('D', D, '\\n')"
      ],
      "execution_count": null,
      "outputs": []
    },
    {
      "cell_type": "code",
      "metadata": {
        "id": "MJiYDTn4nxEW"
      },
      "source": [
        "# скаляры\n",
        "A = 2\n",
        "B = 3\n",
        "\n",
        "print(np.dot(A, B), '\\n')\n",
        "\n",
        "# вектор и скаляр\n",
        "A = np.array([2., 3., 4.])\n",
        "B = 3\n",
        "\n",
        "print(np.dot(A, B), '\\n')\n",
        "\n",
        "# вектора\n",
        "A = np.array([2., 3., 4.])\n",
        "B = np.array([-2., 1., -1.])\n",
        "\n",
        "print(np.dot(A, B), '\\n')\n",
        "\n",
        "# тензор и скаляр\n",
        "A = np.array([[2., 3., 4.], [5., 6., 7.]])\n",
        "B = 2\n",
        "\n",
        "print(np.dot(A, B), '\\n')"
      ],
      "execution_count": null,
      "outputs": []
    },
    {
      "cell_type": "code",
      "metadata": {
        "id": "nrMUbzo2n5vj"
      },
      "source": [
        "# матрица (тензор 2) и вектор (тензор 1)\n",
        "A = np.ones((5, 6))\n",
        "B = np.ones(6)\n",
        "\n",
        "print('A:', A.shape, '\\n', A, '\\nB:', B.shape, '\\n', B, '\\nresult:', np.dot(A, B).shape, '\\n', np.dot(A, B), '\\n\\n')\n",
        "\n",
        "# матрицы (тензора 2)\n",
        "A = np.ones((5, 6))\n",
        "B = np.ones((6, 7))\n",
        "\n",
        "print('A:', A.shape, '\\nB:', B.shape, '\\nresult:', np.dot(A, B).shape, '\\n\\n')\n",
        "\n",
        "# многомерные тензора\n",
        "A = np.ones((5, 6, 7, 8))\n",
        "B = np.ones((1, 2, 3, 8, 4))\n",
        "\n",
        "print('A:', A.shape, '\\nB:', B.shape, '\\nresult:', np.dot(A, B).shape, '\\n\\n')\n",
        "print(np.dot(A, B))"
      ],
      "execution_count": null,
      "outputs": []
    },
    {
      "cell_type": "code",
      "metadata": {
        "id": "CUrZbujGn82U"
      },
      "source": [
        "A = np.ones((1, 3, 7, 4))\n",
        "B = np.ones((5, 7, 6, 7, 8))\n",
        "\n",
        "print('A:', A.shape, '\\nB:', B.shape, '\\nresult:', np.tensordot(A, B, [2, 1]).shape, '\\n\\n')"
      ],
      "execution_count": null,
      "outputs": []
    },
    {
      "cell_type": "markdown",
      "metadata": {
        "id": "lFdvr4RTn-74"
      },
      "source": [
        "**Агрегаторы**"
      ]
    },
    {
      "cell_type": "code",
      "metadata": {
        "id": "s1SQrdS6oB7-"
      },
      "source": [
        "A = np.random.rand(4, 5)\n",
        "\n",
        "print('A\\n', A, '\\n')\n",
        "\n",
        "print('min\\n', np.min(A, 0), '\\n')\n",
        "print('max\\n', np.max(A, 1), '\\n')\n",
        "print('mean\\n', np.mean(A, 0), '\\n')\n",
        "print('average\\n', np.average(A, 0), '\\n')"
      ],
      "execution_count": null,
      "outputs": []
    },
    {
      "cell_type": "code",
      "metadata": {
        "id": "s_niqtYGoD6s"
      },
      "source": [
        "A = np.ones((10, 4, 5))\n",
        "\n",
        "print('sum\\n', np.sum(A, (0, 2)), '\\n')\n",
        "print('min\\n', np.min(A, (0, 2)), '\\n')\n",
        "print('max\\n', np.max(A, (0, 2)), '\\n')\n",
        "print('mean\\n', np.mean(A, (0, 2)), '\\n')"
      ],
      "execution_count": null,
      "outputs": []
    },
    {
      "cell_type": "code",
      "metadata": {
        "id": "OawMCdgyoEnu"
      },
      "source": [
        "A = np.ones((10, 4, 5))\n",
        "\n",
        "print('sum\\n', A.sum((0, 2)), '\\n')\n",
        "print('min\\n', A.min((0, 2)), '\\n')\n",
        "print('max\\n', A.max((0, 2)), '\\n')\n",
        "print('mean\\n', A.mean((0, 2)), '\\n')"
      ],
      "execution_count": null,
      "outputs": []
    },
    {
      "cell_type": "code",
      "metadata": {
        "id": "80ltXzZboMk6"
      },
      "source": [
        ""
      ],
      "execution_count": null,
      "outputs": []
    }
  ]
}